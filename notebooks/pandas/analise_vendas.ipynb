{
 "cells": [
  {
   "cell_type": "markdown",
   "metadata": {},
   "source": [
    "# Análise de Vendas\n",
    "Este notebook contém análises dos dados de vendas, produtos e clientes da loja."
   ]
  },
  {
   "cell_type": "code",
   "execution_count": 11,
   "metadata": {},
   "outputs": [
    {
     "ename": "ModuleNotFoundError",
     "evalue": "No module named 'classes'",
     "output_type": "error",
     "traceback": [
      "\u001b[1;31m---------------------------------------------------------------------------\u001b[0m",
      "\u001b[1;31mModuleNotFoundError\u001b[0m                       Traceback (most recent call last)",
      "Cell \u001b[1;32mIn[11], line 4\u001b[0m\n\u001b[0;32m      1\u001b[0m \u001b[38;5;28;01mimport\u001b[39;00m\u001b[38;5;250m \u001b[39m\u001b[38;5;21;01mpandas\u001b[39;00m\u001b[38;5;250m \u001b[39m\u001b[38;5;28;01mas\u001b[39;00m\u001b[38;5;250m \u001b[39m\u001b[38;5;21;01mpd\u001b[39;00m\n\u001b[0;32m      2\u001b[0m \u001b[38;5;28;01mimport\u001b[39;00m\u001b[38;5;250m \u001b[39m\u001b[38;5;21;01mmatplotlib\u001b[39;00m\u001b[38;5;21;01m.\u001b[39;00m\u001b[38;5;21;01mpyplot\u001b[39;00m\u001b[38;5;250m \u001b[39m\u001b[38;5;28;01mas\u001b[39;00m\u001b[38;5;250m \u001b[39m\u001b[38;5;21;01mplt\u001b[39;00m\n\u001b[1;32m----> 4\u001b[0m \u001b[38;5;28;01mfrom\u001b[39;00m\u001b[38;5;250m \u001b[39m\u001b[38;5;21;01mclasses\u001b[39;00m\u001b[38;5;21;01m.\u001b[39;00m\u001b[38;5;21;01mclassdatabasemanager\u001b[39;00m\u001b[38;5;250m \u001b[39m\u001b[38;5;28;01mimport\u001b[39;00m DatabaseManager\n\u001b[0;32m      5\u001b[0m \u001b[38;5;28;01mfrom\u001b[39;00m\u001b[38;5;250m \u001b[39m\u001b[38;5;21;01mutils\u001b[39;00m\u001b[38;5;21;01m.\u001b[39;00m\u001b[38;5;21;01mlogger_utils\u001b[39;00m\u001b[38;5;250m \u001b[39m\u001b[38;5;28;01mimport\u001b[39;00m logging\n\u001b[0;32m      7\u001b[0m \u001b[38;5;66;03m# classe DatabaseManager para poder acedar as tabelas\u001b[39;00m\n",
      "\u001b[1;31mModuleNotFoundError\u001b[0m: No module named 'classes'"
     ]
    }
   ],
   "source": [
    "import pandas as pd\n",
    "import matplotlib.pyplot as plt\n",
    "\n",
    "from classes.classdatabasemanager import DatabaseManager\n",
    "from utils.logger_utils import logging\n",
    "\n",
    "# classe DatabaseManager para poder acedar as tabelas\n",
    "db_manager = DatabaseManager()\n",
    "\n",
    "# tabelas carregadas em df\n",
    "df_produtos = db_manager.fetch_data_to_df(\"SELECT * FROM produtos;\")\n",
    "df_clientes = db_manager.fetch_data_to_df(\"SELECT * FROM clientes;\")\n",
    "df_vendas = db_manager.fetch_data_to_df(\"SELECT * FROM vendas;\")\n",
    "\n",
    "# mostrar os primeiros 5 registos\n",
    "display(df_produtos.head())\n",
    "display(df_clientes.head())\n",
    "display(df_vendas.head())\n"
   ]
  },
  {
   "cell_type": "code",
   "execution_count": null,
   "metadata": {},
   "outputs": [
    {
     "name": "stdout",
     "output_type": "stream",
     "text": [
      "Index(['id', 'nome', 'preco', 'categoria'], dtype='object')\n",
      "Index(['id', 'id_produto', 'id_cliente', 'id_loja', 'quantidade', 'data'], dtype='object')\n",
      "Index(['id', 'nome', 'email', 'id_loja'], dtype='object')\n",
      "(10, 4)\n",
      "(300, 6)\n",
      "(100, 4)\n",
      "id           0\n",
      "nome         0\n",
      "preco        0\n",
      "categoria    0\n",
      "dtype: int64\n",
      "id            0\n",
      "id_produto    0\n",
      "id_cliente    0\n",
      "id_loja       0\n",
      "quantidade    0\n",
      "data          0\n",
      "dtype: int64\n",
      "id         0\n",
      "nome       0\n",
      "email      0\n",
      "id_loja    0\n",
      "dtype: int64\n"
     ]
    }
   ],
   "source": [
    "#validar colunas\n",
    "print(df_produtos.columns)\n",
    "print(df_vendas.columns)\n",
    "print(df_clientes.columns)\n",
    "\n",
    "#validar quantas linhas a tabela tem\n",
    "print(df_produtos.shape)\n",
    "print(df_vendas.shape)\n",
    "print(df_clientes.shape)\n",
    "\n",
    "#valida dados nulos\n",
    "print(df_produtos.isnull().sum())\n",
    "print(df_vendas.isnull().sum())\n",
    "print(df_clientes.isnull().sum())\n",
    "\n"
   ]
  },
  {
   "cell_type": "markdown",
   "metadata": {},
   "source": [
    "## Análise 1: Produtos Mais Vendidos\n",
    "Nesta seção, vamos identificar quais produtos tiveram o maior volume de vendas.\n"
   ]
  },
  {
   "cell_type": "code",
   "execution_count": null,
   "metadata": {},
   "outputs": [
    {
     "data": {
      "text/html": [
       "<div>\n",
       "<style scoped>\n",
       "    .dataframe tbody tr th:only-of-type {\n",
       "        vertical-align: middle;\n",
       "    }\n",
       "\n",
       "    .dataframe tbody tr th {\n",
       "        vertical-align: top;\n",
       "    }\n",
       "\n",
       "    .dataframe thead th {\n",
       "        text-align: right;\n",
       "    }\n",
       "</style>\n",
       "<table border=\"1\" class=\"dataframe\">\n",
       "  <thead>\n",
       "    <tr style=\"text-align: right;\">\n",
       "      <th></th>\n",
       "      <th>index</th>\n",
       "      <th>nome</th>\n",
       "      <th>quantidade</th>\n",
       "    </tr>\n",
       "  </thead>\n",
       "  <tbody>\n",
       "    <tr>\n",
       "      <th>0</th>\n",
       "      <td>0</td>\n",
       "      <td>Processador AMD Ryzen 9</td>\n",
       "      <td>121</td>\n",
       "    </tr>\n",
       "    <tr>\n",
       "      <th>1</th>\n",
       "      <td>1</td>\n",
       "      <td>Monitor LG UltraGear</td>\n",
       "      <td>101</td>\n",
       "    </tr>\n",
       "    <tr>\n",
       "      <th>2</th>\n",
       "      <td>2</td>\n",
       "      <td>SSD NVMe Samsung 1TB</td>\n",
       "      <td>101</td>\n",
       "    </tr>\n",
       "    <tr>\n",
       "      <th>3</th>\n",
       "      <td>3</td>\n",
       "      <td>Teclado Mecânico HyperX</td>\n",
       "      <td>100</td>\n",
       "    </tr>\n",
       "    <tr>\n",
       "      <th>4</th>\n",
       "      <td>4</td>\n",
       "      <td>Placa Gráfica RTX 3080</td>\n",
       "      <td>95</td>\n",
       "    </tr>\n",
       "    <tr>\n",
       "      <th>5</th>\n",
       "      <td>5</td>\n",
       "      <td>MacBook Pro 16</td>\n",
       "      <td>92</td>\n",
       "    </tr>\n",
       "    <tr>\n",
       "      <th>6</th>\n",
       "      <td>6</td>\n",
       "      <td>Portátil Dell XPS 13</td>\n",
       "      <td>86</td>\n",
       "    </tr>\n",
       "    <tr>\n",
       "      <th>7</th>\n",
       "      <td>7</td>\n",
       "      <td>Memória RAM Corsair 16GB</td>\n",
       "      <td>83</td>\n",
       "    </tr>\n",
       "    <tr>\n",
       "      <th>8</th>\n",
       "      <td>8</td>\n",
       "      <td>Rato Logitech MX Master</td>\n",
       "      <td>73</td>\n",
       "    </tr>\n",
       "    <tr>\n",
       "      <th>9</th>\n",
       "      <td>9</td>\n",
       "      <td>Fonte Corsair 750W</td>\n",
       "      <td>64</td>\n",
       "    </tr>\n",
       "  </tbody>\n",
       "</table>\n",
       "</div>"
      ],
      "text/plain": [
       "   index                      nome  quantidade\n",
       "0      0   Processador AMD Ryzen 9         121\n",
       "1      1      Monitor LG UltraGear         101\n",
       "2      2      SSD NVMe Samsung 1TB         101\n",
       "3      3   Teclado Mecânico HyperX         100\n",
       "4      4    Placa Gráfica RTX 3080          95\n",
       "5      5            MacBook Pro 16          92\n",
       "6      6      Portátil Dell XPS 13          86\n",
       "7      7  Memória RAM Corsair 16GB          83\n",
       "8      8   Rato Logitech MX Master          73\n",
       "9      9        Fonte Corsair 750W          64"
      ]
     },
     "metadata": {},
     "output_type": "display_data"
    }
   ],
   "source": [
    "# juntar a tabela vendas pelo id produto com a tabela produtos pelo id\n",
    "df_merged = df_vendas.merge(df_produtos, left_on=\"id_produto\", right_on=\"id\")\n",
    "\n",
    "# Calcular total vendido por produto\n",
    "produtos_mais_vendidos = df_merged.groupby(\"nome\")[\"quantidade\"].sum().sort_values(ascending=False).reset_index()\n",
    "\n",
    "#tornar a tabela em uma df\n",
    "produtos_mais_vendidos_df=produtos_mais_vendidos.reset_index()\n",
    "\n",
    "# Exibir os 10 produtos mais vendidos\n",
    "display(produtos_mais_vendidos_df.head(10))"
   ]
  },
  {
   "cell_type": "code",
   "execution_count": null,
   "metadata": {},
   "outputs": [
    {
     "data": {
      "image/png": "[encoded data removed]",
      "text/plain": [
       "<Figure size 1000x500 with 1 Axes>"
      ]
     },
     "metadata": {},
     "output_type": "display_data"
    }
   ],
   "source": [
    "# Criar gráfico de barras\n",
    "from utils.funcoes import criar_graficos_matplotlib_pyplot, guardar_analise_csv\n",
    "criar_graficos_matplotlib_pyplot(produtos_mais_vendidos, \"Top 10 Produtos Mais Vendidos\", \"Nome do Produto\", \"Quantidade Vendida\")\n"
   ]
  },
  {
   "cell_type": "code",
   "execution_count": null,
   "metadata": {},
   "outputs": [],
   "source": [
    "#guardar ficheiro top10\n",
    "guardar_analise_csv(produtos_mais_vendidos_df, \"top10_produtos\")\n"
   ]
  }
 ],
 "metadata": {
  "kernelspec": {
   "display_name": "Python 3",
   "language": "python",
   "name": "python3"
  },
  "language_info": {
   "codemirror_mode": {
    "name": "ipython",
    "version": 3
   },
   "file_extension": ".py",
   "mimetype": "text/x-python",
   "name": "python",
   "nbconvert_exporter": "python",
   "pygments_lexer": "ipython3",
   "version": "3.12.8"
  }
 },
 "nbformat": 4,
 "nbformat_minor": 2
}
